{
 "cells": [
  {
   "cell_type": "markdown",
   "metadata": {},
   "source": [
    "# Sparkify Project Workspace\n",
    "This workspace contains a tiny subset (128MB) of the full dataset available (12GB). Feel free to use this workspace to build your project, or to explore a smaller subset with Spark before deploying your cluster on the cloud. Instructions for setting up your Spark cluster is included in the last lesson of the Extracurricular Spark Course content.\n",
    "\n",
    "You can follow the steps below to guide your data analysis and model building portion of this project.\n"
   ]
  },
  {
   "cell_type": "code",
   "execution_count": 182,
   "metadata": {},
   "outputs": [
    {
     "name": "stdout",
     "output_type": "stream",
     "text": [
      "Collecting pycodestyle\n",
      "  Using cached https://files.pythonhosted.org/packages/0e/0c/04a353e104d2f324f8ee5f4b32012618c1c86dd79e52a433b64fceed511b/pycodestyle-2.5.0-py2.py3-none-any.whl\n",
      "Collecting pycodestyle_magic\n",
      "  Using cached https://files.pythonhosted.org/packages/8a/45/9f0f65ab41d816bed8d37c32e61d2ff49f0b03ef2278ee15aeb6fb8e1ec5/pycodestyle_magic-0.2.5-py2.py3-none-any.whl\n",
      "Collecting flake8\n",
      "  Using cached https://files.pythonhosted.org/packages/e9/76/b915bd28976068a9843bf836b789794aa4a8eb13338b23581005cd9177c0/flake8-3.7.7-py2.py3-none-any.whl\n",
      "Collecting pyflakes<2.2.0,>=2.1.0 (from flake8)\n",
      "  Using cached https://files.pythonhosted.org/packages/84/f2/ed0ffb887f8138a8fe5a621b8c0bb9598bfb3989e029f6c6a85ee66628ee/pyflakes-2.1.1-py2.py3-none-any.whl\n",
      "Collecting mccabe<0.7.0,>=0.6.0 (from flake8)\n",
      "  Using cached https://files.pythonhosted.org/packages/87/89/479dc97e18549e21354893e4ee4ef36db1d237534982482c3681ee6e7b57/mccabe-0.6.1-py2.py3-none-any.whl\n",
      "Collecting entrypoints<0.4.0,>=0.3.0 (from flake8)\n",
      "  Using cached https://files.pythonhosted.org/packages/ac/c6/44694103f8c221443ee6b0041f69e2740d89a25641e62fb4f2ee568f2f9c/entrypoints-0.3-py2.py3-none-any.whl\n",
      "\u001b[31mtensorflow 1.3.0 requires tensorflow-tensorboard<0.2.0,>=0.1.0, which is not installed.\u001b[0m\n",
      "\u001b[31mpyspark 2.3.3 requires py4j==0.10.7, which is not installed.\u001b[0m\n",
      "Installing collected packages: pycodestyle, pycodestyle-magic, pyflakes, mccabe, entrypoints, flake8\n",
      "Successfully installed entrypoints-0.3 flake8-3.7.7 mccabe-0.6.1 pycodestyle-2.5.0 pycodestyle-magic-0.2.5 pyflakes-2.1.1\n",
      "\u001b[33mTarget directory /home/spark/shared/user-libs/python3/flake8-3.7.7.dist-info already exists. Specify --upgrade to force replacement.\u001b[0m\n",
      "\u001b[33mTarget directory /home/spark/shared/user-libs/python3/entrypoints.py already exists. Specify --upgrade to force replacement.\u001b[0m\n",
      "\u001b[33mTarget directory /home/spark/shared/user-libs/python3/pycodestyle-2.5.0.dist-info already exists. Specify --upgrade to force replacement.\u001b[0m\n",
      "\u001b[33mTarget directory /home/spark/shared/user-libs/python3/pycodestyle.py already exists. Specify --upgrade to force replacement.\u001b[0m\n",
      "\u001b[33mTarget directory /home/spark/shared/user-libs/python3/flake8 already exists. Specify --upgrade to force replacement.\u001b[0m\n",
      "\u001b[33mTarget directory /home/spark/shared/user-libs/python3/entrypoints-0.3.dist-info already exists. Specify --upgrade to force replacement.\u001b[0m\n",
      "\u001b[33mTarget directory /home/spark/shared/user-libs/python3/pycodestyle_magic-0.2.5.dist-info already exists. Specify --upgrade to force replacement.\u001b[0m\n",
      "\u001b[33mTarget directory /home/spark/shared/user-libs/python3/pyflakes-2.1.1.dist-info already exists. Specify --upgrade to force replacement.\u001b[0m\n",
      "\u001b[33mTarget directory /home/spark/shared/user-libs/python3/pyflakes already exists. Specify --upgrade to force replacement.\u001b[0m\n",
      "\u001b[33mTarget directory /home/spark/shared/user-libs/python3/mccabe-0.6.1.dist-info already exists. Specify --upgrade to force replacement.\u001b[0m\n",
      "\u001b[33mTarget directory /home/spark/shared/user-libs/python3/mccabe.py already exists. Specify --upgrade to force replacement.\u001b[0m\n",
      "\u001b[33mTarget directory /home/spark/shared/user-libs/python3/pycodestyle_magic.py already exists. Specify --upgrade to force replacement.\u001b[0m\n",
      "\u001b[33mTarget directory /home/spark/shared/user-libs/python3/__pycache__ already exists. Specify --upgrade to force replacement.\u001b[0m\n",
      "\u001b[33mTarget directory /home/spark/shared/user-libs/python3/bin already exists. Specify --upgrade to force replacement.\u001b[0m\n"
     ]
    }
   ],
   "source": [
    "!pip install pycodestyle pycodestyle_magic flake8"
   ]
  },
  {
   "cell_type": "code",
   "execution_count": 183,
   "metadata": {},
   "outputs": [
    {
     "name": "stdout",
     "output_type": "stream",
     "text": [
      "The pycodestyle_magic extension is already loaded. To reload it, use:\n",
      "  %reload_ext pycodestyle_magic\n"
     ]
    }
   ],
   "source": [
    "%load_ext pycodestyle_magic"
   ]
  },
  {
   "cell_type": "code",
   "execution_count": 250,
   "metadata": {},
   "outputs": [],
   "source": [
    "#%%pycodestyle\n",
    "import ibmos2spark\n",
    "from pyspark.sql import SparkSession\n",
    "from pyspark.sql.functions import col, udf, count, avg, lit\n",
    "from pyspark.sql.types import IntegerType\n",
    "from pyspark.ml.feature import RegexTokenizer, VectorAssembler, StandardScaler\n",
    "from pyspark.ml.regression import LinearRegression\n",
    "from pyspark.ml.evaluation import MulticlassClassificationEvaluator\n",
    "from pyspark.ml.clustering import KMeans\n",
    "from pyspark.ml import Pipeline\n",
    "from pyspark.ml.tuning import CrossValidator, ParamGridBuilder\n",
    "from pyspark.ml.classification import LogisticRegression, RandomForestClassifier\n",
    "\n",
    "import datetime\n",
    "import matplotlib.pyplot as plt\n",
    "import seaborn as sns\n",
    "import pandas as pd"
   ]
  },
  {
   "cell_type": "code",
   "execution_count": 185,
   "metadata": {},
   "outputs": [],
   "source": [
    "# @hidden_cell\n",
    "credentials = {\n",
    "    'endpoint': 'https://s3-api.us-geo.objectstorage.service.networklayer.com',\n",
    "    'service_id': 'iam-ServiceId-0ff040fe-cb91-495b-b5f8-f21d8eb27227',\n",
    "    'iam_service_endpoint': 'https://iam.bluemix.net/oidc/token',\n",
    "    'api_key': 'biMc646WNN-SCcy4VbylXc1SN3n4_zArhejYXR_KMf0I'\n",
    "}\n",
    "\n",
    "configuration_name = 'os_bcf6f3845ac342f0bfda9106dad790cb_configs'\n",
    "cos = ibmos2spark.CloudObjectStorage(sc, credentials, configuration_name, 'bluemix_cos')\n",
    "\n",
    "\n",
    "spark = SparkSession.builder.getOrCreate()\n",
    "# Since JSON data can be semi-structured and contain additional metadata, it is possible that you might face issues with the DataFrame layout.\n",
    "# Please read the documentation of 'SparkSession.read()' to learn more about the possibilities to adjust the data loading.\n",
    "# PySpark documentation: http://spark.apache.org/docs/2.0.2/api/python/pyspark.sql.html#pyspark.sql.DataFrameReader.json"
   ]
  },
  {
   "cell_type": "markdown",
   "metadata": {},
   "source": [
    "# Load and Clean Dataset\n",
    "In this workspace, the mini-dataset file is `mini_sparkify_event_data.json`. Load and clean the dataset, checking for invalid or missing data - for example, records without userids or sessionids. "
   ]
  },
  {
   "cell_type": "code",
   "execution_count": 186,
   "metadata": {},
   "outputs": [
    {
     "data": {
      "text/plain": [
       "[Row(artist='Martin Orford', auth='Logged In', firstName='Joseph', gender='M', itemInSession=20, lastName='Morales', length=597.55057, level='free', location='Corpus Christi, TX', method='PUT', page='NextSong', registration=1532063507000, sessionId=292, song='Grand Designs', status=200, ts=1538352011000, userAgent='\"Mozilla/5.0 (Macintosh; Intel Mac OS X 10_9_4) AppleWebKit/537.36 (KHTML, like Gecko) Chrome/36.0.1985.125 Safari/537.36\"', userId='293'),\n",
       " Row(artist=\"John Brown's Body\", auth='Logged In', firstName='Sawyer', gender='M', itemInSession=74, lastName='Larson', length=380.21179, level='free', location='Houston-The Woodlands-Sugar Land, TX', method='PUT', page='NextSong', registration=1538069638000, sessionId=97, song='Bulls', status=200, ts=1538352025000, userAgent='\"Mozilla/5.0 (Macintosh; Intel Mac OS X 10_9_4) AppleWebKit/537.36 (KHTML, like Gecko) Chrome/36.0.1985.143 Safari/537.36\"', userId='98'),\n",
       " Row(artist='Afroman', auth='Logged In', firstName='Maverick', gender='M', itemInSession=184, lastName='Santiago', length=202.37016, level='paid', location='Orlando-Kissimmee-Sanford, FL', method='PUT', page='NextSong', registration=1535953455000, sessionId=178, song='Because I Got High', status=200, ts=1538352118000, userAgent='\"Mozilla/5.0 (Macintosh; Intel Mac OS X 10_9_4) AppleWebKit/537.36 (KHTML, like Gecko) Chrome/36.0.1985.143 Safari/537.36\"', userId='179'),\n",
       " Row(artist=None, auth='Logged In', firstName='Maverick', gender='M', itemInSession=185, lastName='Santiago', length=None, level='paid', location='Orlando-Kissimmee-Sanford, FL', method='PUT', page='Logout', registration=1535953455000, sessionId=178, song=None, status=307, ts=1538352119000, userAgent='\"Mozilla/5.0 (Macintosh; Intel Mac OS X 10_9_4) AppleWebKit/537.36 (KHTML, like Gecko) Chrome/36.0.1985.143 Safari/537.36\"', userId='179'),\n",
       " Row(artist='Lily Allen', auth='Logged In', firstName='Gianna', gender='F', itemInSession=22, lastName='Campos', length=194.53342, level='paid', location='Mobile, AL', method='PUT', page='NextSong', registration=1535931018000, sessionId=245, song='Smile (Radio Edit)', status=200, ts=1538352124000, userAgent='Mozilla/5.0 (Windows NT 6.1; WOW64; rv:31.0) Gecko/20100101 Firefox/31.0', userId='246')]"
      ]
     },
     "execution_count": 186,
     "metadata": {},
     "output_type": "execute_result"
    }
   ],
   "source": [
    "df_data_1 = spark.read.json(cos.url('medium-sparkify-event-data.json',\n",
    "                                    'sparkify-donotdelete-pr-nxvkpzudbrgtqs'))\n",
    "df_data_1.take(5)"
   ]
  },
  {
   "cell_type": "markdown",
   "metadata": {},
   "source": [
    "### Clean Dataset"
   ]
  },
  {
   "cell_type": "code",
   "execution_count": 187,
   "metadata": {},
   "outputs": [
    {
     "name": "stdout",
     "output_type": "stream",
     "text": [
      "543705\n"
     ]
    }
   ],
   "source": [
    "print(df_data_1.count())"
   ]
  },
  {
   "cell_type": "code",
   "execution_count": 188,
   "metadata": {},
   "outputs": [],
   "source": [
    "df_data_1 = df_data_1.where(col('auth') != 'Logged Out')"
   ]
  },
  {
   "cell_type": "code",
   "execution_count": 189,
   "metadata": {},
   "outputs": [
    {
     "name": "stdout",
     "output_type": "stream",
     "text": [
      "528099\n",
      "528099\n"
     ]
    }
   ],
   "source": [
    "print(df_data_1.count())\n",
    "df_data_1 = df_data_1.dropna(subset=[\"userId\", \"sessionId\"])\n",
    "print(df_data_1.count())"
   ]
  },
  {
   "cell_type": "code",
   "execution_count": 190,
   "metadata": {},
   "outputs": [
    {
     "name": "stdout",
     "output_type": "stream",
     "text": [
      "+------+----+---------+------+-------------+--------+------+-----+--------+------+----+------------+---------+----+------+---+---------+------+\n",
      "|artist|auth|firstName|gender|itemInSession|lastName|length|level|location|method|page|registration|sessionId|song|status| ts|userAgent|userId|\n",
      "+------+----+---------+------+-------------+--------+------+-----+--------+------+----+------------+---------+----+------+---+---------+------+\n",
      "+------+----+---------+------+-------------+--------+------+-----+--------+------+----+------------+---------+----+------+---+---------+------+\n",
      "\n"
     ]
    }
   ],
   "source": [
    "df_data_1.where(col('userId').isNull()).show()"
   ]
  },
  {
   "cell_type": "markdown",
   "metadata": {},
   "source": [
    "# Exploratory Data Analysis\n",
    "When you're working with the full dataset, perform EDA by loading a small subset of the data and doing basic manipulations within Spark. In this workspace, you are already provided a small subset of data you can explore."
   ]
  },
  {
   "cell_type": "code",
   "execution_count": 191,
   "metadata": {},
   "outputs": [
    {
     "name": "stdout",
     "output_type": "stream",
     "text": [
      "root\n",
      " |-- artist: string (nullable = true)\n",
      " |-- auth: string (nullable = true)\n",
      " |-- firstName: string (nullable = true)\n",
      " |-- gender: string (nullable = true)\n",
      " |-- itemInSession: long (nullable = true)\n",
      " |-- lastName: string (nullable = true)\n",
      " |-- length: double (nullable = true)\n",
      " |-- level: string (nullable = true)\n",
      " |-- location: string (nullable = true)\n",
      " |-- method: string (nullable = true)\n",
      " |-- page: string (nullable = true)\n",
      " |-- registration: long (nullable = true)\n",
      " |-- sessionId: long (nullable = true)\n",
      " |-- song: string (nullable = true)\n",
      " |-- status: long (nullable = true)\n",
      " |-- ts: long (nullable = true)\n",
      " |-- userAgent: string (nullable = true)\n",
      " |-- userId: string (nullable = true)\n",
      "\n"
     ]
    }
   ],
   "source": [
    "df_data_1.printSchema()"
   ]
  },
  {
   "cell_type": "code",
   "execution_count": 192,
   "metadata": {},
   "outputs": [
    {
     "name": "stdout",
     "output_type": "stream",
     "text": [
      "+-------+-----------------+---------+---------+------+------------------+--------+------------------+------+----------------+------+-------+--------------------+------------------+--------------------+------------------+--------------------+--------------------+------------------+\n",
      "|summary|           artist|     auth|firstName|gender|     itemInSession|lastName|            length| level|        location|method|   page|        registration|         sessionId|                song|            status|                  ts|           userAgent|            userId|\n",
      "+-------+-----------------+---------+---------+------+------------------+--------+------------------+------+----------------+------+-------+--------------------+------------------+--------------------+------------------+--------------------+--------------------+------------------+\n",
      "|  count|           432877|   528099|   528005|528005|            528099|  528005|            432877|528099|          528005|528099| 528099|              528005|            528099|              432877|            528099|              528099|              528005|            528099|\n",
      "|   mean|527.5289537712895|     null|     null|  null|107.76159962431286|    null|248.66459278007738|  null|            null|  null|   null|1.535523414862437E12|2042.8019689490038|            Infinity| 209.0910264931386|1.540967146224089...|                null| 60268.42669103512|\n",
      "| stddev|966.1072451772758|     null|     null|  null|116.86174605772996|    null| 98.41266955051972|  null|            null|  null|   null|3.0787254929957166E9|1434.0632907551988|                 NaN|30.149913235878497|1.4812797118056455E9|                null|109898.82324176628|\n",
      "|    min|              !!!|Cancelled|  Aaliyah|     F|                 0|  Abbott|           0.78322|  free|       Akron, OH|   GET|  About|       1509854193000|                 1|\u001c",
      "ÃÂg ÃÂtti Gr...|               200|       1538352011000|\"Mozilla/5.0 (Mac...|                  |\n",
      "|    max|ÃÂlafur Arnalds|Logged In|   Zyonna|     M|              1005|  Wright|        3024.66567|  paid|York-Hanover, PA|   PUT|Upgrade|       1543073874000|              4808|ÃÂ¾etta Gerist Ã...|               404|       1543622466000|Mozilla/5.0 (comp...|                99|\n",
      "+-------+-----------------+---------+---------+------+------------------+--------+------------------+------+----------------+------+-------+--------------------+------------------+--------------------+------------------+--------------------+--------------------+------------------+\n",
      "\n"
     ]
    }
   ],
   "source": [
    "df_data_1.describe().show()"
   ]
  },
  {
   "cell_type": "code",
   "execution_count": 193,
   "metadata": {},
   "outputs": [
    {
     "name": "stdout",
     "output_type": "stream",
     "text": [
      "+-------+-----------------+\n",
      "|summary|           artist|\n",
      "+-------+-----------------+\n",
      "|  count|           432877|\n",
      "|   mean|527.5289537712895|\n",
      "| stddev|966.1072451772758|\n",
      "|    min|              !!!|\n",
      "|    max|ÃÂlafur Arnalds|\n",
      "+-------+-----------------+\n",
      "\n"
     ]
    }
   ],
   "source": [
    "df_data_1.describe(\"artist\").show()"
   ]
  },
  {
   "cell_type": "code",
   "execution_count": 194,
   "metadata": {},
   "outputs": [
    {
     "name": "stdout",
     "output_type": "stream",
     "text": [
      "+-------+------------------+\n",
      "|summary|         sessionId|\n",
      "+-------+------------------+\n",
      "|  count|            528099|\n",
      "|   mean|2042.8019689490038|\n",
      "| stddev|1434.0632907551988|\n",
      "|    min|                 1|\n",
      "|    max|              4808|\n",
      "+-------+------------------+\n",
      "\n"
     ]
    }
   ],
   "source": [
    "df_data_1.describe(\"sessionId\").show()"
   ]
  },
  {
   "cell_type": "code",
   "execution_count": 195,
   "metadata": {},
   "outputs": [
    {
     "data": {
      "text/plain": [
       "528099"
      ]
     },
     "execution_count": 195,
     "metadata": {},
     "output_type": "execute_result"
    }
   ],
   "source": [
    "df_data_1.count()"
   ]
  },
  {
   "cell_type": "code",
   "execution_count": 196,
   "metadata": {},
   "outputs": [
    {
     "name": "stdout",
     "output_type": "stream",
     "text": [
      "+--------------------+\n",
      "|                page|\n",
      "+--------------------+\n",
      "|               About|\n",
      "|          Add Friend|\n",
      "|     Add to Playlist|\n",
      "|              Cancel|\n",
      "|Cancellation Conf...|\n",
      "|           Downgrade|\n",
      "|               Error|\n",
      "|                Help|\n",
      "|                Home|\n",
      "|              Logout|\n",
      "|            NextSong|\n",
      "|            Register|\n",
      "|         Roll Advert|\n",
      "|       Save Settings|\n",
      "|            Settings|\n",
      "|    Submit Downgrade|\n",
      "| Submit Registration|\n",
      "|      Submit Upgrade|\n",
      "|         Thumbs Down|\n",
      "|           Thumbs Up|\n",
      "|             Upgrade|\n",
      "+--------------------+\n",
      "\n"
     ]
    }
   ],
   "source": [
    "df_data_1.select(\"page\").dropDuplicates().sort(\"page\").show(100)"
   ]
  },
  {
   "cell_type": "markdown",
   "metadata": {},
   "source": [
    "\n",
    "### Define Churn\n",
    "\n",
    "Once you've done some preliminary analysis, create a column `Churn` to use as the label for your model. I suggest using the `Cancellation Confirmation` events to define your churn, which happen for both paid and free users. As a bonus task, you can also look into the `Downgrade` events.\n"
   ]
  },
  {
   "cell_type": "code",
   "execution_count": 197,
   "metadata": {},
   "outputs": [],
   "source": [
    "get_churn = udf(lambda x: 1 if x == \"Cancellation Confirmation\" else 0)"
   ]
  },
  {
   "cell_type": "code",
   "execution_count": 198,
   "metadata": {},
   "outputs": [],
   "source": [
    "df_churn = df_data_1.withColumn(\"churn\", get_churn(\"page\"))"
   ]
  },
  {
   "cell_type": "code",
   "execution_count": 199,
   "metadata": {},
   "outputs": [
    {
     "data": {
      "text/plain": [
       "99"
      ]
     },
     "execution_count": 199,
     "metadata": {},
     "output_type": "execute_result"
    }
   ],
   "source": [
    "df_churn.filter(df_churn.churn == 1).count()"
   ]
  },
  {
   "cell_type": "code",
   "execution_count": 200,
   "metadata": {
    "scrolled": true
   },
   "outputs": [
    {
     "data": {
      "text/plain": [
       "528000"
      ]
     },
     "execution_count": 200,
     "metadata": {},
     "output_type": "execute_result"
    }
   ],
   "source": [
    "df_churn.filter(df_churn.churn == 0).count()"
   ]
  },
  {
   "cell_type": "markdown",
   "metadata": {},
   "source": [
    "\n",
    "### Explore Data\n",
    "Once you've defined churn, perform some exploratory data analysis to observe the behavior for users who stayed vs users who churned. You can start by exploring aggregates on these two groups of users, observing how much of a specific action they experienced per a certain time unit or number of songs played."
   ]
  },
  {
   "cell_type": "markdown",
   "metadata": {},
   "source": [
    "#### Free/Paid distribution"
   ]
  },
  {
   "cell_type": "code",
   "execution_count": 201,
   "metadata": {},
   "outputs": [
    {
     "name": "stderr",
     "output_type": "stream",
     "text": [
      "/opt/ibm/conda/miniconda3/lib/python3.5/site-packages/seaborn/categorical.py:1460: FutureWarning: remove_na is deprecated and is a private function. Do not use.\n",
      "  stat_data = remove_na(group_data)\n"
     ]
    },
    {
     "data": {
      "text/plain": [
       "<matplotlib.axes._subplots.AxesSubplot at 0x7fc5f25edfd0>"
      ]
     },
     "execution_count": 201,
     "metadata": {},
     "output_type": "execute_result"
    },
    {
     "data": {
      "image/png": "[encoded data removed]",
      "text/plain": [
       "<matplotlib.figure.Figure at 0x7fc5f2b35390>"
      ]
     },
     "metadata": {},
     "output_type": "display_data"
    }
   ],
   "source": [
    "df_level = df_churn.filter(df_churn.churn == 1)\n",
    "df_level = df_level.groupby(\"level\").count().toPandas()\n",
    "sns.barplot(x=\"level\", y=\"count\", data=df_level)"
   ]
  },
  {
   "cell_type": "markdown",
   "metadata": {},
   "source": [
    "#### Songs per hour"
   ]
  },
  {
   "cell_type": "code",
   "execution_count": 202,
   "metadata": {},
   "outputs": [],
   "source": [
    "get_hour = udf(lambda x: datetime.datetime.fromtimestamp(x / 1000.0). hour)\n",
    "df_churn = df_churn.withColumn(\"hour\", get_hour(df_churn.ts))"
   ]
  },
  {
   "cell_type": "code",
   "execution_count": 203,
   "metadata": {},
   "outputs": [],
   "source": [
    "songs_in_hour = df_churn.filter(df_churn.page == \"NextSong\")\\\n",
    "    .groupby(df_churn.hour).count()"
   ]
  },
  {
   "cell_type": "code",
   "execution_count": 204,
   "metadata": {
    "scrolled": true
   },
   "outputs": [
    {
     "data": {
      "text/plain": [
       "Text(0,0.5,'Songs played')"
      ]
     },
     "execution_count": 204,
     "metadata": {},
     "output_type": "execute_result"
    },
    {
     "data": {
      "image/png": "[encoded data removed]",
      "text/plain": [
       "<matplotlib.figure.Figure at 0x7fc5f2aca828>"
      ]
     },
     "metadata": {},
     "output_type": "display_data"
    }
   ],
   "source": [
    "songs_in_hour_pd = songs_in_hour.toPandas()\n",
    "songs_in_hour_pd.hour = pd.to_numeric(songs_in_hour_pd.hour)\n",
    "plt.scatter(songs_in_hour_pd[\"hour\"], songs_in_hour_pd[\"count\"])\n",
    "plt.xlim(-1, 24)\n",
    "plt.ylim(0, 1.2 * max(songs_in_hour_pd[\"count\"]))\n",
    "plt.xlabel(\"Hour\")\n",
    "plt.ylabel(\"Songs played\")"
   ]
  },
  {
   "cell_type": "code",
   "execution_count": 205,
   "metadata": {},
   "outputs": [
    {
     "data": {
      "text/plain": [
       "DataFrame[artist: string, auth: string, firstName: string, gender: string, itemInSession: bigint, lastName: string, length: double, level: string, location: string, method: string, page: string, registration: bigint, sessionId: bigint, song: string, status: bigint, ts: bigint, userAgent: string, userId: string, churn: string, hour: string]"
      ]
     },
     "execution_count": 205,
     "metadata": {},
     "output_type": "execute_result"
    }
   ],
   "source": [
    "df_cancelled = df_churn.filter(df_churn.churn == 1)\n",
    "df_cancelled.cache()"
   ]
  },
  {
   "cell_type": "code",
   "execution_count": 206,
   "metadata": {},
   "outputs": [],
   "source": [
    "cancelled_userIds = df_cancelled.select(\"userId\").dropDuplicates().collect()"
   ]
  },
  {
   "cell_type": "code",
   "execution_count": 207,
   "metadata": {},
   "outputs": [],
   "source": [
    "cancelled_userIds = [item.userId for item in cancelled_userIds]"
   ]
  },
  {
   "cell_type": "code",
   "execution_count": 208,
   "metadata": {},
   "outputs": [],
   "source": [
    "churned_user_records = df_churn.filter(df_churn.userId.isin(cancelled_userIds))"
   ]
  },
  {
   "cell_type": "code",
   "execution_count": 209,
   "metadata": {},
   "outputs": [],
   "source": [
    "songs_in_hour_churned = churned_user_records.filter(\n",
    "    df_churn.page == \"NextSong\").groupby(churned_user_records.hour).count()"
   ]
  },
  {
   "cell_type": "code",
   "execution_count": 210,
   "metadata": {},
   "outputs": [
    {
     "data": {
      "text/plain": [
       "103646"
      ]
     },
     "execution_count": 210,
     "metadata": {},
     "output_type": "execute_result"
    }
   ],
   "source": [
    "churned_user_records.count()"
   ]
  },
  {
   "cell_type": "code",
   "execution_count": 211,
   "metadata": {},
   "outputs": [
    {
     "data": {
      "text/plain": [
       "Text(0,0.5,'Songs played')"
      ]
     },
     "execution_count": 211,
     "metadata": {},
     "output_type": "execute_result"
    },
    {
     "data": {
      "image/png": "[encoded data removed]",
      "text/plain": [
       "<matplotlib.figure.Figure at 0x7fc5f24f7898>"
      ]
     },
     "metadata": {},
     "output_type": "display_data"
    }
   ],
   "source": [
    "songs_in_hour_churned_pd = songs_in_hour_churned.toPandas()\n",
    "songs_in_hour_churned_pd.hour = pd.to_numeric(songs_in_hour_churned_pd.hour)\n",
    "plt.scatter(songs_in_hour_churned_pd[\"hour\"],\n",
    "            songs_in_hour_churned_pd[\"count\"])\n",
    "plt.xlim(-1, 24)\n",
    "plt.ylim(0, 1.2 * max(songs_in_hour_churned_pd[\"count\"]))\n",
    "plt.xlabel(\"Hour\")\n",
    "plt.ylabel(\"Songs played\")"
   ]
  },
  {
   "cell_type": "code",
   "execution_count": 212,
   "metadata": {},
   "outputs": [],
   "source": [
    "df_not_cancelled = df_churn.filter(df_churn.churn == 0)\n",
    "df_not_cancelled.cache()\n",
    "not_cancelled_userIds = df_not_cancelled.select(\"userId\")\\\n",
    "    .dropDuplicates().collect()"
   ]
  },
  {
   "cell_type": "code",
   "execution_count": 213,
   "metadata": {},
   "outputs": [],
   "source": [
    "not_cancelled_userIds = [item.userId for item in not_cancelled_userIds]\n",
    "not_churned_user_records = df_churn\\\n",
    "    .filter(df_churn.userId.isin(not_cancelled_userIds))\n",
    "songs_in_hour_not_churned = not_churned_user_records\\\n",
    "    .filter(df_churn.page == \"NextSong\")\\\n",
    "    .groupby(not_churned_user_records.hour).count()"
   ]
  },
  {
   "cell_type": "code",
   "execution_count": 214,
   "metadata": {},
   "outputs": [
    {
     "data": {
      "text/plain": [
       "Text(0,0.5,'Songs played')"
      ]
     },
     "execution_count": 214,
     "metadata": {},
     "output_type": "execute_result"
    },
    {
     "data": {
      "image/png": "[encoded data removed]",
      "text/plain": [
       "<matplotlib.figure.Figure at 0x7fc5f24df5c0>"
      ]
     },
     "metadata": {},
     "output_type": "display_data"
    }
   ],
   "source": [
    "songs_in_hour_not_churned_pd = songs_in_hour_not_churned.toPandas()\n",
    "songs_in_hour_not_churned_pd.hour = pd.to_numeric(\n",
    "    songs_in_hour_not_churned_pd.hour)\n",
    "plt.scatter(songs_in_hour_not_churned_pd[\"hour\"],\n",
    "            songs_in_hour_not_churned_pd[\"count\"])\n",
    "plt.xlim(-1, 24)\n",
    "plt.ylim(0, 1.2 * max(songs_in_hour_not_churned_pd[\"count\"]))\n",
    "plt.xlabel(\"Hour\")\n",
    "plt.ylabel(\"Songs played\")"
   ]
  },
  {
   "cell_type": "code",
   "execution_count": 215,
   "metadata": {},
   "outputs": [
    {
     "data": {
      "text/plain": [
       "Text(0,0.5,'Songs played')"
      ]
     },
     "execution_count": 215,
     "metadata": {},
     "output_type": "execute_result"
    },
    {
     "data": {
      "image/png": "[encoded data removed]",
      "text/plain": [
       "<matplotlib.figure.Figure at 0x7fc5f2202f98>"
      ]
     },
     "metadata": {},
     "output_type": "display_data"
    }
   ],
   "source": [
    "plt.scatter(songs_in_hour_not_churned_pd[\"hour\"],\n",
    "            songs_in_hour_not_churned_pd[\"count\"])\n",
    "plt.scatter(songs_in_hour_churned_pd[\"hour\"],\n",
    "            songs_in_hour_churned_pd[\"count\"])\n",
    "plt.xlim(-1, 24)\n",
    "plt.ylim(0, 1.2 * max(songs_in_hour_not_churned_pd[\"count\"]))\n",
    "plt.xlabel(\"Hour\")\n",
    "plt.ylabel(\"Songs played\")"
   ]
  },
  {
   "cell_type": "markdown",
   "metadata": {},
   "source": [
    "#### Songs played"
   ]
  },
  {
   "cell_type": "code",
   "execution_count": 216,
   "metadata": {},
   "outputs": [
    {
     "name": "stdout",
     "output_type": "stream",
     "text": [
      "+-----------------+\n",
      "| avg(count(song))|\n",
      "+-----------------+\n",
      "|852.1111111111111|\n",
      "+-----------------+\n",
      "\n"
     ]
    }
   ],
   "source": [
    "songs_played_churned_user_records = churned_user_records\\\n",
    "    .where(col('song') != 'null').groupby(\"userId\").agg(count(col('song')))\n",
    "songs_played_churned_user_records = songs_played_churned_user_records\\\n",
    "    .agg(avg(col(\"count(song)\")))\n",
    "songs_played_churned_user_records.show()"
   ]
  },
  {
   "cell_type": "code",
   "execution_count": 217,
   "metadata": {},
   "outputs": [
    {
     "name": "stdout",
     "output_type": "stream",
     "text": [
      "+-----------------+\n",
      "| avg(count(song))|\n",
      "+-----------------+\n",
      "|966.2433035714286|\n",
      "+-----------------+\n",
      "\n"
     ]
    }
   ],
   "source": [
    "songs_played_not_churned_user_records = not_churned_user_records\\\n",
    "    .where(col('song') != 'null').groupby(\"userId\").agg(count(col('song')))\n",
    "songs_played_not_churned_user_records = songs_played_not_churned_user_records\\\n",
    "    .agg(avg(col(\"count(song)\")))\n",
    "songs_played_not_churned_user_records.show()"
   ]
  },
  {
   "cell_type": "markdown",
   "metadata": {},
   "source": [
    "#### Thumbs Down"
   ]
  },
  {
   "cell_type": "code",
   "execution_count": 218,
   "metadata": {},
   "outputs": [
    {
     "name": "stdout",
     "output_type": "stream",
     "text": [
      "+------+-----------+\n",
      "|userId|count(page)|\n",
      "+------+-----------+\n",
      "|100010|          3|\n",
      "|200002|          5|\n",
      "|   125|          1|\n",
      "|   124|         15|\n",
      "|    51|          1|\n",
      "|     7|          4|\n",
      "|200037|          3|\n",
      "|   205|         10|\n",
      "|   272|          4|\n",
      "|   282|         29|\n",
      "|   232|         17|\n",
      "|    15|         16|\n",
      "|    54|          7|\n",
      "|   234|         22|\n",
      "|200043|         22|\n",
      "|   154|          2|\n",
      "|   132|          1|\n",
      "|100014|          3|\n",
      "|300027|          5|\n",
      "|   200|          2|\n",
      "+------+-----------+\n",
      "only showing top 20 rows\n",
      "\n"
     ]
    }
   ],
   "source": [
    "thumbs_down = df_churn.where(df_churn.page == 'Thumbs Down')\\\n",
    "    .groupby(\"userId\").agg(count(col('page')))\n",
    "thumbs_down.show()"
   ]
  },
  {
   "cell_type": "code",
   "execution_count": 219,
   "metadata": {},
   "outputs": [
    {
     "name": "stdout",
     "output_type": "stream",
     "text": [
      "+------+-----------+\n",
      "|userId|count(page)|\n",
      "+------+-----------+\n",
      "|100010|          3|\n",
      "|200002|          5|\n",
      "|   124|         15|\n",
      "|    51|          1|\n",
      "|200037|          3|\n",
      "|    54|          7|\n",
      "|   234|         22|\n",
      "|100014|          3|\n",
      "|   154|          2|\n",
      "|   132|          1|\n",
      "|   200|          2|\n",
      "|    11|          1|\n",
      "|    34|         11|\n",
      "|   162|         15|\n",
      "|200013|          4|\n",
      "|    28|          7|\n",
      "|    85|         33|\n",
      "|    16|          7|\n",
      "|   187|          3|\n",
      "|   188|         22|\n",
      "+------+-----------+\n",
      "only showing top 20 rows\n",
      "\n"
     ]
    }
   ],
   "source": [
    "churned_thumbs_down = churned_user_records.where(\n",
    "    churned_user_records.page == 'Thumbs Down').groupby(\"userId\")\\\n",
    "    .agg(count(col('page')))\n",
    "churned_thumbs_down.show()"
   ]
  },
  {
   "cell_type": "code",
   "execution_count": 220,
   "metadata": {},
   "outputs": [
    {
     "name": "stdout",
     "output_type": "stream",
     "text": [
      "+------+-----------+\n",
      "|userId|count(page)|\n",
      "+------+-----------+\n",
      "|100010|          3|\n",
      "|200002|          5|\n",
      "|   125|          1|\n",
      "|   124|         15|\n",
      "|    51|          1|\n",
      "|     7|          4|\n",
      "|200037|          3|\n",
      "|   205|         10|\n",
      "|   272|          4|\n",
      "|   282|         29|\n",
      "|   232|         17|\n",
      "|    15|         16|\n",
      "|    54|          7|\n",
      "|   234|         22|\n",
      "|200043|         22|\n",
      "|   154|          2|\n",
      "|   132|          1|\n",
      "|100014|          3|\n",
      "|   200|          2|\n",
      "|300027|          5|\n",
      "+------+-----------+\n",
      "only showing top 20 rows\n",
      "\n"
     ]
    }
   ],
   "source": [
    "not_churned_thumbs_down = not_churned_user_records.where(\n",
    "    not_churned_user_records.page == 'Thumbs Down')\\\n",
    "    .groupby(\"userId\").agg(count(col('page')))\n",
    "not_churned_thumbs_down.show()"
   ]
  },
  {
   "cell_type": "markdown",
   "metadata": {},
   "source": [
    "# Feature Engineering\n",
    "Once you've familiarized yourself with the data, build out the features you find promising to train your model on. To work with the full dataset, you can follow the following steps.\n",
    "- Write a script to extract the necessary features from the smaller subset of data\n",
    "- Ensure that your script is scalable, using the best practices discussed in Lesson 3\n",
    "- Try your script on the full data set, debugging your script if necessary\n",
    "\n",
    "If you are working in the classroom workspace, you can just extract features based on the small subset of data contained here. Be sure to transfer over this work to the larger dataset when you work on your Spark cluster."
   ]
  },
  {
   "cell_type": "code",
   "execution_count": 221,
   "metadata": {},
   "outputs": [],
   "source": [
    "df_features = df_churn"
   ]
  },
  {
   "cell_type": "code",
   "execution_count": 222,
   "metadata": {},
   "outputs": [],
   "source": [
    "songs_played = df_features.where(col('song') != 'null')\\\n",
    "    .groupby(\"userId\").agg(count(col('song')))\n",
    "df_features = df_features.join(songs_played, \"userId\")"
   ]
  },
  {
   "cell_type": "code",
   "execution_count": 223,
   "metadata": {},
   "outputs": [],
   "source": [
    "thumbs_down = df_features.where(df_features.page == 'Thumbs Down')\\\n",
    "    .groupby(\"userId\").agg(count(col('page')))\n",
    "df_features = df_features.join(thumbs_down, \"userId\")"
   ]
  },
  {
   "cell_type": "code",
   "execution_count": 224,
   "metadata": {},
   "outputs": [
    {
     "data": {
      "text/plain": [
       "DataFrame[summary: string, userId: string, artist: string, auth: string, firstName: string, gender: string, itemInSession: string, lastName: string, length: string, level: string, location: string, method: string, page: string, registration: string, sessionId: string, song: string, status: string, ts: string, userAgent: string, churn: string, hour: string, count(song): string, count(page): string]"
      ]
     },
     "execution_count": 224,
     "metadata": {},
     "output_type": "execute_result"
    }
   ],
   "source": [
    "df_features.describe()"
   ]
  },
  {
   "cell_type": "code",
   "execution_count": 225,
   "metadata": {},
   "outputs": [
    {
     "data": {
      "text/plain": [
       "DataFrame[userId: string, artist: string, auth: string, firstName: string, gender: string, itemInSession: bigint, lastName: string, length: double, level: string, location: string, method: string, page: string, registration: bigint, sessionId: bigint, song: string, status: bigint, ts: bigint, userAgent: string, churn: string, hour: string, count(song): bigint, count(page): bigint]"
      ]
     },
     "execution_count": 225,
     "metadata": {},
     "output_type": "execute_result"
    }
   ],
   "source": [
    "df_features.persist()"
   ]
  },
  {
   "cell_type": "markdown",
   "metadata": {},
   "source": [
    "# Modeling\n",
    "Split the full dataset into train, test, and validation sets. Test out several of the machine learning methods you learned. Evaluate the accuracy of the various models, tuning parameters as necessary. Determine your winning model based on test accuracy and report results on the validation set. Since the churned users are a fairly small subset, I suggest using F1 score as the metric to optimize."
   ]
  },
  {
   "cell_type": "markdown",
   "metadata": {},
   "source": [
    "### Metrics\n",
    "The metrics used for these models are the test accuracy and F1 score.\n",
    "\n",
    "The test accuracy is used to see how well the model would do if we gave it test data that it had not seen before by getting a percentage of the successful churn classifications made.\n",
    "\n",
    "The F1 score is also used as it can be very helpful when the cost of false positives and false negatives aren’t the same. For example, if a user that isn’t likely to cancel their account is classified as likely to cancel their account (false positive) the impact isn’t severe as a company may try to improve the satisfaction of a user who is already happy. In the opposite case, a user likely to cancel their account is classified as unlikely to cancel (false negative) then they may be overlooked completely and that user may cancel their account without a company making an effort to improve their experience."
   ]
  },
  {
   "cell_type": "code",
   "execution_count": 226,
   "metadata": {},
   "outputs": [],
   "source": [
    "df_features = df_features.withColumn(\"churn\",\n",
    "                                     df_features[\"churn\"].cast(\"double\"))"
   ]
  },
  {
   "cell_type": "code",
   "execution_count": 227,
   "metadata": {},
   "outputs": [],
   "source": [
    "columns = ['churn', 'count(song)', 'count(page)']\n",
    "assembler = VectorAssembler(inputCols=columns, outputCol=\"NumFeatures\")\n",
    "data = assembler.transform(df_features)"
   ]
  },
  {
   "cell_type": "code",
   "execution_count": 228,
   "metadata": {},
   "outputs": [],
   "source": [
    "scaler = StandardScaler(inputCol=\"NumFeatures\",\n",
    "                        outputCol=\"features\", withStd=True)\n",
    "scalerModel = scaler.fit(data)\n",
    "data = scalerModel.transform(data)"
   ]
  },
  {
   "cell_type": "code",
   "execution_count": 229,
   "metadata": {},
   "outputs": [],
   "source": [
    "train, test = data.randomSplit([0.8, 0.2], seed=42)"
   ]
  },
  {
   "cell_type": "code",
   "execution_count": 230,
   "metadata": {},
   "outputs": [],
   "source": [
    "lr = LinearRegression(maxIter=5, regParam=0.0, fitIntercept=False,\n",
    "                      solver=\"normal\")"
   ]
  },
  {
   "cell_type": "code",
   "execution_count": 231,
   "metadata": {},
   "outputs": [],
   "source": [
    "pipeline = Pipeline(stages=[lr])\n",
    "paramGrid = ParamGridBuilder() \\\n",
    "    .addGrid(lr.regParam, [0.0, 0.1]) \\\n",
    "    .build()\n",
    "\n",
    "crossval = CrossValidator(estimator=pipeline,\n",
    "                          estimatorParamMaps=paramGrid,\n",
    "                          evaluator=MulticlassClassificationEvaluator(),\n",
    "                          numFolds=3)"
   ]
  },
  {
   "cell_type": "code",
   "execution_count": 232,
   "metadata": {},
   "outputs": [],
   "source": [
    "data_lr = train.select(col(\"count(page)\").alias(\"label\"),\n",
    "                       col(\"NumFeatures\").alias(\"features\"))"
   ]
  },
  {
   "cell_type": "code",
   "execution_count": 233,
   "metadata": {},
   "outputs": [],
   "source": [
    "cvModel = crossval.fit(data_lr)"
   ]
  },
  {
   "cell_type": "code",
   "execution_count": 234,
   "metadata": {},
   "outputs": [
    {
     "data": {
      "text/plain": [
       "[0.6801207596054578, 0.0]"
      ]
     },
     "execution_count": 234,
     "metadata": {},
     "output_type": "execute_result"
    }
   ],
   "source": [
    "cvModel.avgMetrics"
   ]
  },
  {
   "cell_type": "code",
   "execution_count": 235,
   "metadata": {},
   "outputs": [],
   "source": [
    "val_lr = test.select(col(\"count(page)\").alias(\"label\"),\n",
    "                     col(\"NumFeatures\").alias(\"features\"))\n",
    "results = cvModel.transform(val_lr)"
   ]
  },
  {
   "cell_type": "code",
   "execution_count": 236,
   "metadata": {},
   "outputs": [
    {
     "name": "stdout",
     "output_type": "stream",
     "text": [
      "50398\n",
      "104244\n"
     ]
    }
   ],
   "source": [
    "print(results.filter(results.label == results.prediction).count())\n",
    "print(results.count())"
   ]
  },
  {
   "cell_type": "code",
   "execution_count": 237,
   "metadata": {},
   "outputs": [
    {
     "data": {
      "text/plain": [
       "0.4999904071217528"
      ]
     },
     "execution_count": 237,
     "metadata": {},
     "output_type": "execute_result"
    }
   ],
   "source": [
    "52121/val_lr.count()"
   ]
  },
  {
   "cell_type": "markdown",
   "metadata": {},
   "source": [
    "#### KMeans"
   ]
  },
  {
   "cell_type": "code",
   "execution_count": 238,
   "metadata": {},
   "outputs": [],
   "source": [
    "kmeans = KMeans().setParams(featuresCol=\"NumFeatures\",\n",
    "                            predictionCol=\"KmeansGroup\", k=5, seed=42)\n",
    "kmeans_model = kmeans.fit(train)\n",
    "df_kmeans = kmeans_model.transform(test)"
   ]
  },
  {
   "cell_type": "code",
   "execution_count": 239,
   "metadata": {},
   "outputs": [
    {
     "name": "stdout",
     "output_type": "stream",
     "text": [
      "+-----------+----------------------------------+---------------------------------+\n",
      "|KmeansGroup|avg(count(song) AS `Num of Songs`)|avg(count(page) AS `Thumbs Down`)|\n",
      "+-----------+----------------------------------+---------------------------------+\n",
      "|          1|                 5057.508304662475|               48.779689168347375|\n",
      "|          3|                            8177.0|                             80.0|\n",
      "|          4|                1925.8876810475278|               21.595009419103796|\n",
      "|          2|                 774.6793492874428|               10.246598547996774|\n",
      "|          0|                3251.0999811118804|               34.817729648051376|\n",
      "+-----------+----------------------------------+---------------------------------+\n",
      "\n"
     ]
    }
   ],
   "source": [
    "df_kmeans.groupby(\"KmeansGroup\").agg(\n",
    "    avg(col(\"count(song)\").alias(\"Num of Songs\")),\n",
    "    avg(col(\"count(page)\").alias(\"Thumbs Down\"))).show()"
   ]
  },
  {
   "cell_type": "markdown",
   "metadata": {},
   "source": [
    "#### Logistic Regression"
   ]
  },
  {
   "cell_type": "code",
   "execution_count": 240,
   "metadata": {},
   "outputs": [],
   "source": [
    "model = LogisticRegression()"
   ]
  },
  {
   "cell_type": "code",
   "execution_count": 241,
   "metadata": {},
   "outputs": [],
   "source": [
    "logistic_regression = model.fit(data_lr)"
   ]
  },
  {
   "cell_type": "code",
   "execution_count": 245,
   "metadata": {},
   "outputs": [],
   "source": [
    "logistic_regression_results = logistic_regression.transform(val_lr)"
   ]
  },
  {
   "cell_type": "code",
   "execution_count": 256,
   "metadata": {},
   "outputs": [],
   "source": [
    "def print_results(results):\n",
    "    accuracy_evaluator = MulticlassClassificationEvaluator(\n",
    "        metricName='accuracy')\n",
    "    accuracy = accuracy_evaluator.evaluate(\n",
    "        results.select(col('label'), col('prediction')))\n",
    "    print(accuracy)\n",
    "    f1 = MulticlassClassificationEvaluator(metricName='f1')\n",
    "    f1_score = f1.evaluate(\n",
    "        results.select(col('label'), col('prediction')))\n",
    "    print(f1_score)"
   ]
  },
  {
   "cell_type": "code",
   "execution_count": 248,
   "metadata": {},
   "outputs": [
    {
     "name": "stdout",
     "output_type": "stream",
     "text": [
      "0.5229941291585127\n",
      "0.47356306245271246\n"
     ]
    }
   ],
   "source": [
    "print_results(logistic_regression_results)"
   ]
  },
  {
   "cell_type": "markdown",
   "metadata": {},
   "source": [
    "#### Random Forest"
   ]
  },
  {
   "cell_type": "code",
   "execution_count": 259,
   "metadata": {},
   "outputs": [
    {
     "name": "stdout",
     "output_type": "stream",
     "text": [
      "0.6614865124131845\n",
      "0.5941034076288182\n"
     ]
    }
   ],
   "source": [
    "model_rf = RandomForestClassifier()\n",
    "random_forest = model_rf.fit(data_lr)\n",
    "random_forest_results = random_forest.transform(val_lr)\n",
    "print_results(random_forest_results)"
   ]
  },
  {
   "cell_type": "markdown",
   "metadata": {},
   "source": [
    "#### Cross Validator"
   ]
  },
  {
   "cell_type": "code",
   "execution_count": 293,
   "metadata": {},
   "outputs": [],
   "source": [
    "model_rf = RandomForestClassifier()\n",
    "paramGrid = ParamGridBuilder() \\\n",
    "    .addGrid(model_rf.numTrees, [10, 20, 40]) \\\n",
    "    .addGrid(model_rf.maxDepth, [5, 10, 20]) \\\n",
    "    .build()\n",
    "\n",
    "crossval = CrossValidator(estimator=model_rf,\n",
    "                          estimatorParamMaps=paramGrid,\n",
    "                          evaluator=MulticlassClassificationEvaluator(\n",
    "                              metricName='f1'),\n",
    "                          numFolds=3)"
   ]
  },
  {
   "cell_type": "code",
   "execution_count": 294,
   "metadata": {},
   "outputs": [
    {
     "name": "stdout",
     "output_type": "stream",
     "text": [
      "0.9088100993822187\n",
      "0.8966030196744592\n"
     ]
    }
   ],
   "source": [
    "random_forest_cross_val = crossval.fit(data_lr)\n",
    "random_forest_cross_val_results = random_forest_cross_val.transform(val_lr)\n",
    "print_results(random_forest_cross_val_results)"
   ]
  },
  {
   "cell_type": "code",
   "execution_count": 295,
   "metadata": {},
   "outputs": [
    {
     "data": {
      "text/plain": [
       "[0.6106675870884074,\n",
       " 0.8962159190050045,\n",
       " 0.8986222274621753,\n",
       " 0.5798364489653189,\n",
       " 0.8920385470236655,\n",
       " 0.8983193023434037,\n",
       " 0.6450088073466177,\n",
       " 0.8924893026345748,\n",
       " 0.8979620271586326]"
      ]
     },
     "execution_count": 295,
     "metadata": {},
     "output_type": "execute_result"
    }
   ],
   "source": [
    "random_forest_cross_val.avgMetrics"
   ]
  },
  {
   "cell_type": "code",
   "execution_count": 296,
   "metadata": {},
   "outputs": [
    {
     "data": {
      "text/plain": [
       "10"
      ]
     },
     "execution_count": 296,
     "metadata": {},
     "output_type": "execute_result"
    }
   ],
   "source": [
    "random_forest_cross_val.bestModel._java_obj.getNumTrees()"
   ]
  },
  {
   "cell_type": "code",
   "execution_count": 297,
   "metadata": {},
   "outputs": [
    {
     "data": {
      "text/plain": [
       "20"
      ]
     },
     "execution_count": 297,
     "metadata": {},
     "output_type": "execute_result"
    }
   ],
   "source": [
    "random_forest_cross_val.bestModel._java_obj.getMaxDepth()"
   ]
  },
  {
   "cell_type": "markdown",
   "metadata": {},
   "source": [
    "## Improvements\n",
    "A first step that could be taken to improve the results gathered is extending the train and test set to the full dataset as the IBM Watson Studio free trial does not have access to the full Sparkify dataset. The larger dataset could significantly improve results."
   ]
  },
  {
   "cell_type": "code",
   "execution_count": null,
   "metadata": {},
   "outputs": [],
   "source": []
  }
 ],
 "metadata": {
  "kernelspec": {
   "display_name": "Python 3",
   "language": "python",
   "name": "python3"
  },
  "language_info": {
   "codemirror_mode": {
    "name": "ipython",
    "version": 3
   },
   "file_extension": ".py",
   "mimetype": "text/x-python",
   "name": "python",
   "nbconvert_exporter": "python",
   "pygments_lexer": "ipython3",
   "version": "3.6.3"
  }
 },
 "nbformat": 4,
 "nbformat_minor": 1
}
